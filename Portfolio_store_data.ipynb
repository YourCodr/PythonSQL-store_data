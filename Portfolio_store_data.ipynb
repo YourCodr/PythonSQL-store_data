{
 "cells": [
  {
   "cell_type": "markdown",
   "id": "01c0f72e",
   "metadata": {},
   "source": [
    "## Importing Libraries"
   ]
  },
  {
   "cell_type": "code",
   "execution_count": null,
   "id": "55129572",
   "metadata": {},
   "outputs": [],
   "source": [
    "import config\n",
    "import pandas as pd\n",
    "import numpy as np\n",
    "import sqlalchemy as SA\n",
    "import psycopg2\n",
    "import datetime as dt\n",
    "import seaborn as sns\n",
    "import matplotlib.pyplot as plt\n",
    "from datetime import datetime"
   ]
  },
  {
   "cell_type": "markdown",
   "id": "4e311982",
   "metadata": {},
   "source": [
    "## Define the connection"
   ]
  },
  {
   "cell_type": "code",
   "execution_count": null,
   "id": "ba736ff0",
   "metadata": {},
   "outputs": [],
   "source": [
    "conn1= SA.create_engine('postgresql+psycopg2://{u}:{p}@{h}/{d}'.format(\n",
    "    u='bhavuk@gmail.com', \n",
    "    p='123456',\n",
    "    h='123.1.1.0:1008',\n",
    "    d='service_store_transactions'))"
   ]
  },
  {
   "cell_type": "markdown",
   "id": "d9a846e0",
   "metadata": {},
   "source": [
    "## Analyze sales transactions from a dataset named sales_transactions. Let's break down the query into a descriptive paragraph:"
   ]
  },
  {
   "cell_type": "markdown",
   "id": "5741df84",
   "metadata": {},
   "source": [
    "The query aggregates sales and returns data by customer for different product categories. It calculates the total value of purchases and returns for each customer, categorized by product category such as Grocery, Electronics, and Clothing. The query distinguishes between transactions made in different currencies, converting the values to a common unit where necessary. For purchases, if the currency is 'paise', it converts the value to the main currency by dividing by 100; otherwise, it retains the original value. Similarly, for returns, it performs the same conversion logic based on currency. The analysis is limited to transactions that occurred within the date range from January 1, 2023, to December 31, 2023. The results are grouped by customer_id."
   ]
  },
  {
   "cell_type": "code",
   "execution_count": null,
   "id": "4d89cbe5",
   "metadata": {},
   "outputs": [],
   "source": [
    "query=\"\"\"\n",
    "\n",
    "SELECT \n",
    "    customer_id,\n",
    "    SUM(CASE \n",
    "            WHEN transaction_type = 'PURCHASE' AND product_category = 'Grocery' AND currency='paise'  THEN value/100 \n",
    "            WHEN transaction_type = 'PURCHASE' AND product_category = 'Grocery' AND currency!='paise'  THEN value\n",
    "            ELSE 0\n",
    "        END) AS Grocery_Purchases,\n",
    "    SUM(CASE \n",
    "            WHEN transaction_type = 'PURCHASE' AND product_category = 'Electronics' currency='paise'  THEN value/100\n",
    "            WHEN transaction_type = 'PURCHASE' AND product_category = 'Electronics' currency!='paise'  THEN value\n",
    "            ELSE 0\n",
    "        END) AS Electronics_Purchases,\n",
    "    SUM(CASE \n",
    "            WHEN transaction_type = 'PURCHASE' AND product_category = 'Clothing' AND currency='paise'  THEN value/100\n",
    "            WHEN transaction_type = 'RETURN' AND product_category = 'Clothing' AND currency!='paise'  THEN value\n",
    "            ELSE 0\n",
    "        END) AS Clothing_Purchases,\n",
    "    SUM(CASE \n",
    "            WHEN transaction_type = 'RETURN' AND product_category = 'Grocery' AND currency='paise'  THEN value/100\n",
    "            WHEN transaction_type = 'RETURN' AND product_category = 'Grocery' AND currency!='paise'  THEN value\n",
    "            ELSE 0\n",
    "        END) AS Grocery_Returns,\n",
    "    SUM(CASE \n",
    "            WHEN transaction_type = 'RETURN' AND product_category = 'Electronics'AND currency='paise'  THEN value/100\n",
    "            WHEN transaction_type = 'RETURN' AND product_category = 'Electronics'AND currency!='paise'  THEN value\n",
    "            ELSE 0\n",
    "        END) AS Electronics_Returns,\n",
    "    SUM(CASE \n",
    "            WHEN transaction_type = 'RETURN' AND product_category = 'Clothing'AND currency='paise'  THEN value/100\n",
    "            WHEN transaction_type = 'RETURN' AND product_category = 'Clothing'AND currency!='paise'  THEN value\n",
    "            ELSE 0\n",
    "        END) AS Clothing_Returns\n",
    "FROM \n",
    "    sales_transactions\n",
    "WHERE \n",
    "    transaction_date BETWEEN '2023-01-01' AND '2023-12-31'\n",
    "GROUP BY \n",
    "    customer_id;\n",
    "\"\"\"\n",
    "customer_data=pd.read_sql(query,con=conn1)"
   ]
  },
  {
   "cell_type": "markdown",
   "id": "c0864ab9",
   "metadata": {},
   "source": [
    "The subsequent Python code snippet reads the results of this SQL query into a pandas DataFrame named 'customer_data' using the provided SQL query (query) and the database connection object conn1. This DataFrame likely contains the summarized sales and returns data for each customer, which can then be further analyzed or visualized using Python's data analysis libraries."
   ]
  },
  {
   "cell_type": "code",
   "execution_count": null,
   "id": "0baeb68a",
   "metadata": {},
   "outputs": [],
   "source": []
  }
 ],
 "metadata": {
  "kernelspec": {
   "display_name": "Python 3 (ipykernel)",
   "language": "python",
   "name": "python3"
  },
  "language_info": {
   "codemirror_mode": {
    "name": "ipython",
    "version": 3
   },
   "file_extension": ".py",
   "mimetype": "text/x-python",
   "name": "python",
   "nbconvert_exporter": "python",
   "pygments_lexer": "ipython3",
   "version": "3.10.9"
  }
 },
 "nbformat": 4,
 "nbformat_minor": 5
}
